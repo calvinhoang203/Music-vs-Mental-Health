{
 "cells": [
  {
   "cell_type": "code",
   "execution_count": 1,
   "id": "b6569c68-b310-48eb-a7b2-e6f28677d87e",
   "metadata": {},
   "outputs": [],
   "source": [
    "data <- read.csv('C:/Users/karen/Documents/STA141A/mxmh_survey_results.csv')"
   ]
  },
  {
   "cell_type": "code",
   "execution_count": 2,
   "id": "f5bfb444-7541-4c9c-bacd-448df94332b8",
   "metadata": {},
   "outputs": [
    {
     "data": {
      "text/html": [
       "<table class=\"dataframe\">\n",
       "<caption>A data.frame: 6 × 33</caption>\n",
       "<thead>\n",
       "\t<tr><th></th><th scope=col>Timestamp</th><th scope=col>Age</th><th scope=col>Primary.streaming.service</th><th scope=col>Hours.per.day</th><th scope=col>While.working</th><th scope=col>Instrumentalist</th><th scope=col>Composer</th><th scope=col>Fav.genre</th><th scope=col>Exploratory</th><th scope=col>Foreign.languages</th><th scope=col>⋯</th><th scope=col>Frequency..R.B.</th><th scope=col>Frequency..Rap.</th><th scope=col>Frequency..Rock.</th><th scope=col>Frequency..Video.game.music.</th><th scope=col>Anxiety</th><th scope=col>Depression</th><th scope=col>Insomnia</th><th scope=col>OCD</th><th scope=col>Music.effects</th><th scope=col>Permissions</th></tr>\n",
       "\t<tr><th></th><th scope=col>&lt;chr&gt;</th><th scope=col>&lt;int&gt;</th><th scope=col>&lt;chr&gt;</th><th scope=col>&lt;dbl&gt;</th><th scope=col>&lt;chr&gt;</th><th scope=col>&lt;chr&gt;</th><th scope=col>&lt;chr&gt;</th><th scope=col>&lt;chr&gt;</th><th scope=col>&lt;chr&gt;</th><th scope=col>&lt;chr&gt;</th><th scope=col>⋯</th><th scope=col>&lt;chr&gt;</th><th scope=col>&lt;chr&gt;</th><th scope=col>&lt;chr&gt;</th><th scope=col>&lt;chr&gt;</th><th scope=col>&lt;dbl&gt;</th><th scope=col>&lt;dbl&gt;</th><th scope=col>&lt;dbl&gt;</th><th scope=col>&lt;dbl&gt;</th><th scope=col>&lt;chr&gt;</th><th scope=col>&lt;chr&gt;</th></tr>\n",
       "</thead>\n",
       "<tbody>\n",
       "\t<tr><th scope=row>1</th><td>8/27/2022 19:29:02</td><td>18</td><td>Spotify      </td><td>3.0</td><td>Yes</td><td>Yes</td><td>Yes</td><td>Latin           </td><td>Yes</td><td>Yes</td><td>⋯</td><td>Sometimes      </td><td>Very frequently</td><td>Never          </td><td>Sometimes      </td><td>3</td><td>0</td><td> 1</td><td>0</td><td>         </td><td>I understand.</td></tr>\n",
       "\t<tr><th scope=row>2</th><td>8/27/2022 19:57:31</td><td>63</td><td>Pandora      </td><td>1.5</td><td>Yes</td><td>No </td><td>No </td><td>Rock            </td><td>Yes</td><td>No </td><td>⋯</td><td>Sometimes      </td><td>Rarely         </td><td>Very frequently</td><td>Rarely         </td><td>7</td><td>2</td><td> 2</td><td>1</td><td>         </td><td>I understand.</td></tr>\n",
       "\t<tr><th scope=row>3</th><td>8/27/2022 21:28:18</td><td>18</td><td>Spotify      </td><td>4.0</td><td>No </td><td>No </td><td>No </td><td>Video game music</td><td>No </td><td>Yes</td><td>⋯</td><td>Never          </td><td>Rarely         </td><td>Rarely         </td><td>Very frequently</td><td>7</td><td>7</td><td>10</td><td>2</td><td>No effect</td><td>I understand.</td></tr>\n",
       "\t<tr><th scope=row>4</th><td>8/27/2022 21:40:40</td><td>61</td><td>YouTube Music</td><td>2.5</td><td>Yes</td><td>No </td><td>Yes</td><td>Jazz            </td><td>Yes</td><td>Yes</td><td>⋯</td><td>Sometimes      </td><td>Never          </td><td>Never          </td><td>Never          </td><td>9</td><td>7</td><td> 3</td><td>3</td><td>Improve  </td><td>I understand.</td></tr>\n",
       "\t<tr><th scope=row>5</th><td>8/27/2022 21:54:47</td><td>18</td><td><span style=white-space:pre-wrap>Spotify      </span></td><td>4.0</td><td>Yes</td><td>No </td><td>No </td><td><span style=white-space:pre-wrap>R&amp;B             </span></td><td>Yes</td><td>No </td><td>⋯</td><td>Very frequently</td><td>Very frequently</td><td><span style=white-space:pre-wrap>Never          </span></td><td><span style=white-space:pre-wrap>Rarely         </span></td><td>7</td><td>2</td><td> 5</td><td>9</td><td><span style=white-space:pre-wrap>Improve  </span></td><td>I understand.</td></tr>\n",
       "\t<tr><th scope=row>6</th><td>8/27/2022 21:56:50</td><td>18</td><td>Spotify      </td><td>5.0</td><td>Yes</td><td>Yes</td><td>Yes</td><td>Jazz            </td><td>Yes</td><td>Yes</td><td>⋯</td><td>Very frequently</td><td>Very frequently</td><td>Very frequently</td><td>Never          </td><td>8</td><td>8</td><td> 7</td><td>7</td><td>Improve  </td><td>I understand.</td></tr>\n",
       "</tbody>\n",
       "</table>\n"
      ],
      "text/latex": [
       "A data.frame: 6 × 33\n",
       "\\begin{tabular}{r|lllllllllllllllllllll}\n",
       "  & Timestamp & Age & Primary.streaming.service & Hours.per.day & While.working & Instrumentalist & Composer & Fav.genre & Exploratory & Foreign.languages & ⋯ & Frequency..R.B. & Frequency..Rap. & Frequency..Rock. & Frequency..Video.game.music. & Anxiety & Depression & Insomnia & OCD & Music.effects & Permissions\\\\\n",
       "  & <chr> & <int> & <chr> & <dbl> & <chr> & <chr> & <chr> & <chr> & <chr> & <chr> & ⋯ & <chr> & <chr> & <chr> & <chr> & <dbl> & <dbl> & <dbl> & <dbl> & <chr> & <chr>\\\\\n",
       "\\hline\n",
       "\t1 & 8/27/2022 19:29:02 & 18 & Spotify       & 3.0 & Yes & Yes & Yes & Latin            & Yes & Yes & ⋯ & Sometimes       & Very frequently & Never           & Sometimes       & 3 & 0 &  1 & 0 &           & I understand.\\\\\n",
       "\t2 & 8/27/2022 19:57:31 & 63 & Pandora       & 1.5 & Yes & No  & No  & Rock             & Yes & No  & ⋯ & Sometimes       & Rarely          & Very frequently & Rarely          & 7 & 2 &  2 & 1 &           & I understand.\\\\\n",
       "\t3 & 8/27/2022 21:28:18 & 18 & Spotify       & 4.0 & No  & No  & No  & Video game music & No  & Yes & ⋯ & Never           & Rarely          & Rarely          & Very frequently & 7 & 7 & 10 & 2 & No effect & I understand.\\\\\n",
       "\t4 & 8/27/2022 21:40:40 & 61 & YouTube Music & 2.5 & Yes & No  & Yes & Jazz             & Yes & Yes & ⋯ & Sometimes       & Never           & Never           & Never           & 9 & 7 &  3 & 3 & Improve   & I understand.\\\\\n",
       "\t5 & 8/27/2022 21:54:47 & 18 & Spotify       & 4.0 & Yes & No  & No  & R\\&B              & Yes & No  & ⋯ & Very frequently & Very frequently & Never           & Rarely          & 7 & 2 &  5 & 9 & Improve   & I understand.\\\\\n",
       "\t6 & 8/27/2022 21:56:50 & 18 & Spotify       & 5.0 & Yes & Yes & Yes & Jazz             & Yes & Yes & ⋯ & Very frequently & Very frequently & Very frequently & Never           & 8 & 8 &  7 & 7 & Improve   & I understand.\\\\\n",
       "\\end{tabular}\n"
      ],
      "text/markdown": [
       "\n",
       "A data.frame: 6 × 33\n",
       "\n",
       "| <!--/--> | Timestamp &lt;chr&gt; | Age &lt;int&gt; | Primary.streaming.service &lt;chr&gt; | Hours.per.day &lt;dbl&gt; | While.working &lt;chr&gt; | Instrumentalist &lt;chr&gt; | Composer &lt;chr&gt; | Fav.genre &lt;chr&gt; | Exploratory &lt;chr&gt; | Foreign.languages &lt;chr&gt; | ⋯ ⋯ | Frequency..R.B. &lt;chr&gt; | Frequency..Rap. &lt;chr&gt; | Frequency..Rock. &lt;chr&gt; | Frequency..Video.game.music. &lt;chr&gt; | Anxiety &lt;dbl&gt; | Depression &lt;dbl&gt; | Insomnia &lt;dbl&gt; | OCD &lt;dbl&gt; | Music.effects &lt;chr&gt; | Permissions &lt;chr&gt; |\n",
       "|---|---|---|---|---|---|---|---|---|---|---|---|---|---|---|---|---|---|---|---|---|---|\n",
       "| 1 | 8/27/2022 19:29:02 | 18 | Spotify       | 3.0 | Yes | Yes | Yes | Latin            | Yes | Yes | ⋯ | Sometimes       | Very frequently | Never           | Sometimes       | 3 | 0 |  1 | 0 | <!----> | I understand. |\n",
       "| 2 | 8/27/2022 19:57:31 | 63 | Pandora       | 1.5 | Yes | No  | No  | Rock             | Yes | No  | ⋯ | Sometimes       | Rarely          | Very frequently | Rarely          | 7 | 2 |  2 | 1 | <!----> | I understand. |\n",
       "| 3 | 8/27/2022 21:28:18 | 18 | Spotify       | 4.0 | No  | No  | No  | Video game music | No  | Yes | ⋯ | Never           | Rarely          | Rarely          | Very frequently | 7 | 7 | 10 | 2 | No effect | I understand. |\n",
       "| 4 | 8/27/2022 21:40:40 | 61 | YouTube Music | 2.5 | Yes | No  | Yes | Jazz             | Yes | Yes | ⋯ | Sometimes       | Never           | Never           | Never           | 9 | 7 |  3 | 3 | Improve   | I understand. |\n",
       "| 5 | 8/27/2022 21:54:47 | 18 | Spotify       | 4.0 | Yes | No  | No  | R&amp;B              | Yes | No  | ⋯ | Very frequently | Very frequently | Never           | Rarely          | 7 | 2 |  5 | 9 | Improve   | I understand. |\n",
       "| 6 | 8/27/2022 21:56:50 | 18 | Spotify       | 5.0 | Yes | Yes | Yes | Jazz             | Yes | Yes | ⋯ | Very frequently | Very frequently | Very frequently | Never           | 8 | 8 |  7 | 7 | Improve   | I understand. |\n",
       "\n"
      ],
      "text/plain": [
       "  Timestamp          Age Primary.streaming.service Hours.per.day While.working\n",
       "1 8/27/2022 19:29:02 18  Spotify                   3.0           Yes          \n",
       "2 8/27/2022 19:57:31 63  Pandora                   1.5           Yes          \n",
       "3 8/27/2022 21:28:18 18  Spotify                   4.0           No           \n",
       "4 8/27/2022 21:40:40 61  YouTube Music             2.5           Yes          \n",
       "5 8/27/2022 21:54:47 18  Spotify                   4.0           Yes          \n",
       "6 8/27/2022 21:56:50 18  Spotify                   5.0           Yes          \n",
       "  Instrumentalist Composer Fav.genre        Exploratory Foreign.languages ⋯\n",
       "1 Yes             Yes      Latin            Yes         Yes               ⋯\n",
       "2 No              No       Rock             Yes         No                ⋯\n",
       "3 No              No       Video game music No          Yes               ⋯\n",
       "4 No              Yes      Jazz             Yes         Yes               ⋯\n",
       "5 No              No       R&B              Yes         No                ⋯\n",
       "6 Yes             Yes      Jazz             Yes         Yes               ⋯\n",
       "  Frequency..R.B. Frequency..Rap. Frequency..Rock. Frequency..Video.game.music.\n",
       "1 Sometimes       Very frequently Never            Sometimes                   \n",
       "2 Sometimes       Rarely          Very frequently  Rarely                      \n",
       "3 Never           Rarely          Rarely           Very frequently             \n",
       "4 Sometimes       Never           Never            Never                       \n",
       "5 Very frequently Very frequently Never            Rarely                      \n",
       "6 Very frequently Very frequently Very frequently  Never                       \n",
       "  Anxiety Depression Insomnia OCD Music.effects Permissions  \n",
       "1 3       0           1       0                 I understand.\n",
       "2 7       2           2       1                 I understand.\n",
       "3 7       7          10       2   No effect     I understand.\n",
       "4 9       7           3       3   Improve       I understand.\n",
       "5 7       2           5       9   Improve       I understand.\n",
       "6 8       8           7       7   Improve       I understand."
      ]
     },
     "metadata": {},
     "output_type": "display_data"
    }
   ],
   "source": [
    "head(data)"
   ]
  },
  {
   "cell_type": "code",
   "execution_count": 3,
   "id": "55c4829d-aaab-4444-a786-a10bba16dc7b",
   "metadata": {},
   "outputs": [
    {
     "data": {
      "text/html": [
       "TRUE"
      ],
      "text/latex": [
       "TRUE"
      ],
      "text/markdown": [
       "TRUE"
      ],
      "text/plain": [
       "[1] TRUE"
      ]
     },
     "metadata": {},
     "output_type": "display_data"
    }
   ],
   "source": [
    "is.data.frame(data)"
   ]
  },
  {
   "cell_type": "code",
   "execution_count": 5,
   "id": "e00d0f24-db12-4dfb-9621-51f651d98324",
   "metadata": {},
   "outputs": [
    {
     "name": "stderr",
     "output_type": "stream",
     "text": [
      "Loading required package: dplyr\n",
      "\n",
      "\n",
      "Attaching package: 'dplyr'\n",
      "\n",
      "\n",
      "The following objects are masked from 'package:stats':\n",
      "\n",
      "    filter, lag\n",
      "\n",
      "\n",
      "The following objects are masked from 'package:base':\n",
      "\n",
      "    intersect, setdiff, setequal, union\n",
      "\n",
      "\n"
     ]
    }
   ],
   "source": [
    "require('tidyr')\n",
    "require('dplyr')\n",
    "require('ggplot2')"
   ]
  },
  {
   "cell_type": "code",
   "execution_count": 7,
   "id": "bf429ee1-6348-4720-a620-53dfb88979c4",
   "metadata": {},
   "outputs": [
    {
     "data": {
      "text/html": [
       "<table class=\"dataframe\">\n",
       "<caption>A data.frame: 6 × 34</caption>\n",
       "<thead>\n",
       "\t<tr><th></th><th scope=col>Timestamp</th><th scope=col>Age</th><th scope=col>Primary.streaming.service</th><th scope=col>Hours.per.day</th><th scope=col>While.working</th><th scope=col>Instrumentalist</th><th scope=col>Composer</th><th scope=col>Fav.genre</th><th scope=col>Exploratory</th><th scope=col>Foreign.languages</th><th scope=col>⋯</th><th scope=col>Frequency..Rap.</th><th scope=col>Frequency..Rock.</th><th scope=col>Frequency..Video.game.music.</th><th scope=col>Anxiety</th><th scope=col>Depression</th><th scope=col>Insomnia</th><th scope=col>OCD</th><th scope=col>Music.effects</th><th scope=col>Permissions</th><th scope=col>Anxious</th></tr>\n",
       "\t<tr><th></th><th scope=col>&lt;chr&gt;</th><th scope=col>&lt;int&gt;</th><th scope=col>&lt;chr&gt;</th><th scope=col>&lt;dbl&gt;</th><th scope=col>&lt;chr&gt;</th><th scope=col>&lt;chr&gt;</th><th scope=col>&lt;chr&gt;</th><th scope=col>&lt;chr&gt;</th><th scope=col>&lt;chr&gt;</th><th scope=col>&lt;chr&gt;</th><th scope=col>⋯</th><th scope=col>&lt;chr&gt;</th><th scope=col>&lt;chr&gt;</th><th scope=col>&lt;chr&gt;</th><th scope=col>&lt;dbl&gt;</th><th scope=col>&lt;dbl&gt;</th><th scope=col>&lt;dbl&gt;</th><th scope=col>&lt;dbl&gt;</th><th scope=col>&lt;chr&gt;</th><th scope=col>&lt;chr&gt;</th><th scope=col>&lt;dbl&gt;</th></tr>\n",
       "</thead>\n",
       "<tbody>\n",
       "\t<tr><th scope=row>1</th><td>8/27/2022 19:29:02</td><td>18</td><td>Spotify      </td><td>3.0</td><td>Yes</td><td>Yes</td><td>Yes</td><td>Latin           </td><td>Yes</td><td>Yes</td><td>⋯</td><td>Very frequently</td><td>Never          </td><td>Sometimes      </td><td>3</td><td>0</td><td> 1</td><td>0</td><td>         </td><td>I understand.</td><td>0</td></tr>\n",
       "\t<tr><th scope=row>2</th><td>8/27/2022 19:57:31</td><td>63</td><td>Pandora      </td><td>1.5</td><td>Yes</td><td>No </td><td>No </td><td>Rock            </td><td>Yes</td><td>No </td><td>⋯</td><td>Rarely         </td><td>Very frequently</td><td>Rarely         </td><td>7</td><td>2</td><td> 2</td><td>1</td><td>         </td><td>I understand.</td><td>1</td></tr>\n",
       "\t<tr><th scope=row>3</th><td>8/27/2022 21:28:18</td><td>18</td><td>Spotify      </td><td>4.0</td><td>No </td><td>No </td><td>No </td><td>Video game music</td><td>No </td><td>Yes</td><td>⋯</td><td>Rarely         </td><td>Rarely         </td><td>Very frequently</td><td>7</td><td>7</td><td>10</td><td>2</td><td>No effect</td><td>I understand.</td><td>1</td></tr>\n",
       "\t<tr><th scope=row>4</th><td>8/27/2022 21:40:40</td><td>61</td><td>YouTube Music</td><td>2.5</td><td>Yes</td><td>No </td><td>Yes</td><td>Jazz            </td><td>Yes</td><td>Yes</td><td>⋯</td><td>Never          </td><td>Never          </td><td>Never          </td><td>9</td><td>7</td><td> 3</td><td>3</td><td>Improve  </td><td>I understand.</td><td>1</td></tr>\n",
       "\t<tr><th scope=row>5</th><td>8/27/2022 21:54:47</td><td>18</td><td><span style=white-space:pre-wrap>Spotify      </span></td><td>4.0</td><td>Yes</td><td>No </td><td>No </td><td><span style=white-space:pre-wrap>R&amp;B             </span></td><td>Yes</td><td>No </td><td>⋯</td><td>Very frequently</td><td><span style=white-space:pre-wrap>Never          </span></td><td><span style=white-space:pre-wrap>Rarely         </span></td><td>7</td><td>2</td><td> 5</td><td>9</td><td><span style=white-space:pre-wrap>Improve  </span></td><td>I understand.</td><td>1</td></tr>\n",
       "\t<tr><th scope=row>6</th><td>8/27/2022 21:56:50</td><td>18</td><td>Spotify      </td><td>5.0</td><td>Yes</td><td>Yes</td><td>Yes</td><td>Jazz            </td><td>Yes</td><td>Yes</td><td>⋯</td><td>Very frequently</td><td>Very frequently</td><td>Never          </td><td>8</td><td>8</td><td> 7</td><td>7</td><td>Improve  </td><td>I understand.</td><td>1</td></tr>\n",
       "</tbody>\n",
       "</table>\n"
      ],
      "text/latex": [
       "A data.frame: 6 × 34\n",
       "\\begin{tabular}{r|lllllllllllllllllllll}\n",
       "  & Timestamp & Age & Primary.streaming.service & Hours.per.day & While.working & Instrumentalist & Composer & Fav.genre & Exploratory & Foreign.languages & ⋯ & Frequency..Rap. & Frequency..Rock. & Frequency..Video.game.music. & Anxiety & Depression & Insomnia & OCD & Music.effects & Permissions & Anxious\\\\\n",
       "  & <chr> & <int> & <chr> & <dbl> & <chr> & <chr> & <chr> & <chr> & <chr> & <chr> & ⋯ & <chr> & <chr> & <chr> & <dbl> & <dbl> & <dbl> & <dbl> & <chr> & <chr> & <dbl>\\\\\n",
       "\\hline\n",
       "\t1 & 8/27/2022 19:29:02 & 18 & Spotify       & 3.0 & Yes & Yes & Yes & Latin            & Yes & Yes & ⋯ & Very frequently & Never           & Sometimes       & 3 & 0 &  1 & 0 &           & I understand. & 0\\\\\n",
       "\t2 & 8/27/2022 19:57:31 & 63 & Pandora       & 1.5 & Yes & No  & No  & Rock             & Yes & No  & ⋯ & Rarely          & Very frequently & Rarely          & 7 & 2 &  2 & 1 &           & I understand. & 1\\\\\n",
       "\t3 & 8/27/2022 21:28:18 & 18 & Spotify       & 4.0 & No  & No  & No  & Video game music & No  & Yes & ⋯ & Rarely          & Rarely          & Very frequently & 7 & 7 & 10 & 2 & No effect & I understand. & 1\\\\\n",
       "\t4 & 8/27/2022 21:40:40 & 61 & YouTube Music & 2.5 & Yes & No  & Yes & Jazz             & Yes & Yes & ⋯ & Never           & Never           & Never           & 9 & 7 &  3 & 3 & Improve   & I understand. & 1\\\\\n",
       "\t5 & 8/27/2022 21:54:47 & 18 & Spotify       & 4.0 & Yes & No  & No  & R\\&B              & Yes & No  & ⋯ & Very frequently & Never           & Rarely          & 7 & 2 &  5 & 9 & Improve   & I understand. & 1\\\\\n",
       "\t6 & 8/27/2022 21:56:50 & 18 & Spotify       & 5.0 & Yes & Yes & Yes & Jazz             & Yes & Yes & ⋯ & Very frequently & Very frequently & Never           & 8 & 8 &  7 & 7 & Improve   & I understand. & 1\\\\\n",
       "\\end{tabular}\n"
      ],
      "text/markdown": [
       "\n",
       "A data.frame: 6 × 34\n",
       "\n",
       "| <!--/--> | Timestamp &lt;chr&gt; | Age &lt;int&gt; | Primary.streaming.service &lt;chr&gt; | Hours.per.day &lt;dbl&gt; | While.working &lt;chr&gt; | Instrumentalist &lt;chr&gt; | Composer &lt;chr&gt; | Fav.genre &lt;chr&gt; | Exploratory &lt;chr&gt; | Foreign.languages &lt;chr&gt; | ⋯ ⋯ | Frequency..Rap. &lt;chr&gt; | Frequency..Rock. &lt;chr&gt; | Frequency..Video.game.music. &lt;chr&gt; | Anxiety &lt;dbl&gt; | Depression &lt;dbl&gt; | Insomnia &lt;dbl&gt; | OCD &lt;dbl&gt; | Music.effects &lt;chr&gt; | Permissions &lt;chr&gt; | Anxious &lt;dbl&gt; |\n",
       "|---|---|---|---|---|---|---|---|---|---|---|---|---|---|---|---|---|---|---|---|---|---|\n",
       "| 1 | 8/27/2022 19:29:02 | 18 | Spotify       | 3.0 | Yes | Yes | Yes | Latin            | Yes | Yes | ⋯ | Very frequently | Never           | Sometimes       | 3 | 0 |  1 | 0 | <!----> | I understand. | 0 |\n",
       "| 2 | 8/27/2022 19:57:31 | 63 | Pandora       | 1.5 | Yes | No  | No  | Rock             | Yes | No  | ⋯ | Rarely          | Very frequently | Rarely          | 7 | 2 |  2 | 1 | <!----> | I understand. | 1 |\n",
       "| 3 | 8/27/2022 21:28:18 | 18 | Spotify       | 4.0 | No  | No  | No  | Video game music | No  | Yes | ⋯ | Rarely          | Rarely          | Very frequently | 7 | 7 | 10 | 2 | No effect | I understand. | 1 |\n",
       "| 4 | 8/27/2022 21:40:40 | 61 | YouTube Music | 2.5 | Yes | No  | Yes | Jazz             | Yes | Yes | ⋯ | Never           | Never           | Never           | 9 | 7 |  3 | 3 | Improve   | I understand. | 1 |\n",
       "| 5 | 8/27/2022 21:54:47 | 18 | Spotify       | 4.0 | Yes | No  | No  | R&amp;B              | Yes | No  | ⋯ | Very frequently | Never           | Rarely          | 7 | 2 |  5 | 9 | Improve   | I understand. | 1 |\n",
       "| 6 | 8/27/2022 21:56:50 | 18 | Spotify       | 5.0 | Yes | Yes | Yes | Jazz             | Yes | Yes | ⋯ | Very frequently | Very frequently | Never           | 8 | 8 |  7 | 7 | Improve   | I understand. | 1 |\n",
       "\n"
      ],
      "text/plain": [
       "  Timestamp          Age Primary.streaming.service Hours.per.day While.working\n",
       "1 8/27/2022 19:29:02 18  Spotify                   3.0           Yes          \n",
       "2 8/27/2022 19:57:31 63  Pandora                   1.5           Yes          \n",
       "3 8/27/2022 21:28:18 18  Spotify                   4.0           No           \n",
       "4 8/27/2022 21:40:40 61  YouTube Music             2.5           Yes          \n",
       "5 8/27/2022 21:54:47 18  Spotify                   4.0           Yes          \n",
       "6 8/27/2022 21:56:50 18  Spotify                   5.0           Yes          \n",
       "  Instrumentalist Composer Fav.genre        Exploratory Foreign.languages ⋯\n",
       "1 Yes             Yes      Latin            Yes         Yes               ⋯\n",
       "2 No              No       Rock             Yes         No                ⋯\n",
       "3 No              No       Video game music No          Yes               ⋯\n",
       "4 No              Yes      Jazz             Yes         Yes               ⋯\n",
       "5 No              No       R&B              Yes         No                ⋯\n",
       "6 Yes             Yes      Jazz             Yes         Yes               ⋯\n",
       "  Frequency..Rap. Frequency..Rock. Frequency..Video.game.music. Anxiety\n",
       "1 Very frequently Never            Sometimes                    3      \n",
       "2 Rarely          Very frequently  Rarely                       7      \n",
       "3 Rarely          Rarely           Very frequently              7      \n",
       "4 Never           Never            Never                        9      \n",
       "5 Very frequently Never            Rarely                       7      \n",
       "6 Very frequently Very frequently  Never                        8      \n",
       "  Depression Insomnia OCD Music.effects Permissions   Anxious\n",
       "1 0           1       0                 I understand. 0      \n",
       "2 2           2       1                 I understand. 1      \n",
       "3 7          10       2   No effect     I understand. 1      \n",
       "4 7           3       3   Improve       I understand. 1      \n",
       "5 2           5       9   Improve       I understand. 1      \n",
       "6 8           7       7   Improve       I understand. 1      "
      ]
     },
     "metadata": {},
     "output_type": "display_data"
    }
   ],
   "source": [
    "# mark people as anxious (1) if anxiety > 5, not anxious (0) otherwise\n",
    "data$Anxious = ifelse(data$Anxiety > 5, 1, 0)\n",
    "head(data)"
   ]
  },
  {
   "cell_type": "code",
   "execution_count": 15,
   "id": "54627175-b701-490e-9817-bb70b4a6b14b",
   "metadata": {},
   "outputs": [
    {
     "data": {
      "text/html": [
       "542"
      ],
      "text/latex": [
       "542"
      ],
      "text/markdown": [
       "542"
      ],
      "text/plain": [
       "[1] 542"
      ]
     },
     "metadata": {},
     "output_type": "display_data"
    }
   ],
   "source": [
    "sum(data$Music.effects == 'Improve')\n"
   ]
  },
  {
   "cell_type": "code",
   "execution_count": 12,
   "id": "cbdf3df5-d2b8-4eda-8739-5645f8645ada",
   "metadata": {},
   "outputs": [
    {
     "data": {
      "text/html": [
       "736"
      ],
      "text/latex": [
       "736"
      ],
      "text/markdown": [
       "736"
      ],
      "text/plain": [
       "[1] 736"
      ]
     },
     "metadata": {},
     "output_type": "display_data"
    }
   ],
   "source": [
    "nrow(data)"
   ]
  },
  {
   "cell_type": "code",
   "execution_count": 16,
   "id": "1bb43a66-4ffe-4c63-a509-febb66706c35",
   "metadata": {},
   "outputs": [],
   "source": [
    "ratio <- sum(data$Music.effects == 'Improve') / sum(data$Anxious == 1)"
   ]
  },
  {
   "cell_type": "code",
   "execution_count": 17,
   "id": "a766992e-6486-4307-ba4b-c208743f776d",
   "metadata": {},
   "outputs": [
    {
     "data": {
      "text/html": [
       "1.22072072072072"
      ],
      "text/latex": [
       "1.22072072072072"
      ],
      "text/markdown": [
       "1.22072072072072"
      ],
      "text/plain": [
       "[1] 1.220721"
      ]
     },
     "metadata": {},
     "output_type": "display_data"
    }
   ],
   "source": [
    "ratio"
   ]
  },
  {
   "cell_type": "code",
   "execution_count": 19,
   "id": "d880381c-60c8-4e36-b060-ba54608e0704",
   "metadata": {},
   "outputs": [
    {
     "data": {
      "text/html": [
       "1.85616438356164"
      ],
      "text/latex": [
       "1.85616438356164"
      ],
      "text/markdown": [
       "1.85616438356164"
      ],
      "text/plain": [
       "[1] 1.856164"
      ]
     },
     "metadata": {},
     "output_type": "display_data"
    }
   ],
   "source": [
    "ratio2 <- sum(data$Music.effects == 'Improve') / sum(data$Anxious == 0)\n",
    "ratio2"
   ]
  },
  {
   "cell_type": "code",
   "execution_count": 21,
   "id": "473bb06d-e537-43db-a9dd-b7f847e36d12",
   "metadata": {},
   "outputs": [
    {
     "data": {
      "text/html": [
       "<table class=\"dataframe\">\n",
       "<caption>A tibble: 2 × 2</caption>\n",
       "<thead>\n",
       "\t<tr><th scope=col>Anxious</th><th scope=col>... &lt;- NULL</th></tr>\n",
       "\t<tr><th scope=col>&lt;dbl&gt;</th><th scope=col>&lt;dbl&gt;</th></tr>\n",
       "</thead>\n",
       "<tbody>\n",
       "\t<tr><td>0</td><td>1.856164</td></tr>\n",
       "\t<tr><td>1</td><td>1.856164</td></tr>\n",
       "</tbody>\n",
       "</table>\n"
      ],
      "text/latex": [
       "A tibble: 2 × 2\n",
       "\\begin{tabular}{ll}\n",
       " Anxious & ... <- NULL\\\\\n",
       " <dbl> & <dbl>\\\\\n",
       "\\hline\n",
       "\t 0 & 1.856164\\\\\n",
       "\t 1 & 1.856164\\\\\n",
       "\\end{tabular}\n"
      ],
      "text/markdown": [
       "\n",
       "A tibble: 2 × 2\n",
       "\n",
       "| Anxious &lt;dbl&gt; | ... &lt;- NULL &lt;dbl&gt; |\n",
       "|---|---|\n",
       "| 0 | 1.856164 |\n",
       "| 1 | 1.856164 |\n",
       "\n"
      ],
      "text/plain": [
       "  Anxious ... <- NULL\n",
       "1 0       1.856164   \n",
       "2 1       1.856164   "
      ]
     },
     "metadata": {},
     "output_type": "display_data"
    }
   ],
   "source": [
    "data %>%\n",
    "  group_by(Anxious) %>%\n",
    "  summarise(ratio1 <- sum(data$Music.effects == 'Improve') / sum(data$Anxious == 1), \n",
    "           ratio2 <- sum(data$Music.effects == 'Improve') / sum(data$Anxious == 0))"
   ]
  },
  {
   "cell_type": "code",
   "execution_count": 22,
   "id": "d0b53388-3031-4940-bcc0-69a2155995b5",
   "metadata": {},
   "outputs": [],
   "source": [
    "# can investigate improvement in people who are not anxious + together if have room in paper\n",
    "# i.e. with ratio 2 + not sure how to do together lol\n",
    "#split data frame based on particular column value\n",
    "data_anxious <- data[data$Anxious == 1, ]\n",
    "data_not_anxious <- data[data$Anxious == 0, ]"
   ]
  },
  {
   "cell_type": "code",
   "execution_count": 23,
   "id": "57017816-aa64-44f7-9703-519bfbaba4d4",
   "metadata": {},
   "outputs": [
    {
     "data": {
      "text/html": [
       "<table class=\"dataframe\">\n",
       "<caption>A data.frame: 6 × 34</caption>\n",
       "<thead>\n",
       "\t<tr><th></th><th scope=col>Timestamp</th><th scope=col>Age</th><th scope=col>Primary.streaming.service</th><th scope=col>Hours.per.day</th><th scope=col>While.working</th><th scope=col>Instrumentalist</th><th scope=col>Composer</th><th scope=col>Fav.genre</th><th scope=col>Exploratory</th><th scope=col>Foreign.languages</th><th scope=col>⋯</th><th scope=col>Frequency..Rap.</th><th scope=col>Frequency..Rock.</th><th scope=col>Frequency..Video.game.music.</th><th scope=col>Anxiety</th><th scope=col>Depression</th><th scope=col>Insomnia</th><th scope=col>OCD</th><th scope=col>Music.effects</th><th scope=col>Permissions</th><th scope=col>Anxious</th></tr>\n",
       "\t<tr><th></th><th scope=col>&lt;chr&gt;</th><th scope=col>&lt;int&gt;</th><th scope=col>&lt;chr&gt;</th><th scope=col>&lt;dbl&gt;</th><th scope=col>&lt;chr&gt;</th><th scope=col>&lt;chr&gt;</th><th scope=col>&lt;chr&gt;</th><th scope=col>&lt;chr&gt;</th><th scope=col>&lt;chr&gt;</th><th scope=col>&lt;chr&gt;</th><th scope=col>⋯</th><th scope=col>&lt;chr&gt;</th><th scope=col>&lt;chr&gt;</th><th scope=col>&lt;chr&gt;</th><th scope=col>&lt;dbl&gt;</th><th scope=col>&lt;dbl&gt;</th><th scope=col>&lt;dbl&gt;</th><th scope=col>&lt;dbl&gt;</th><th scope=col>&lt;chr&gt;</th><th scope=col>&lt;chr&gt;</th><th scope=col>&lt;dbl&gt;</th></tr>\n",
       "</thead>\n",
       "<tbody>\n",
       "\t<tr><th scope=row>2</th><td>8/27/2022 19:57:31</td><td>63</td><td>Pandora      </td><td>1.5</td><td>Yes</td><td>No </td><td>No </td><td>Rock            </td><td>Yes</td><td>No </td><td>⋯</td><td>Rarely         </td><td>Very frequently</td><td>Rarely         </td><td>7</td><td>2</td><td> 2</td><td>1</td><td>         </td><td>I understand.</td><td>1</td></tr>\n",
       "\t<tr><th scope=row>3</th><td>8/27/2022 21:28:18</td><td>18</td><td>Spotify      </td><td>4.0</td><td>No </td><td>No </td><td>No </td><td>Video game music</td><td>No </td><td>Yes</td><td>⋯</td><td>Rarely         </td><td>Rarely         </td><td>Very frequently</td><td>7</td><td>7</td><td>10</td><td>2</td><td>No effect</td><td>I understand.</td><td>1</td></tr>\n",
       "\t<tr><th scope=row>4</th><td>8/27/2022 21:40:40</td><td>61</td><td>YouTube Music</td><td>2.5</td><td>Yes</td><td>No </td><td>Yes</td><td>Jazz            </td><td>Yes</td><td>Yes</td><td>⋯</td><td>Never          </td><td>Never          </td><td>Never          </td><td>9</td><td>7</td><td> 3</td><td>3</td><td>Improve  </td><td>I understand.</td><td>1</td></tr>\n",
       "\t<tr><th scope=row>5</th><td>8/27/2022 21:54:47</td><td>18</td><td><span style=white-space:pre-wrap>Spotify      </span></td><td>4.0</td><td>Yes</td><td>No </td><td>No </td><td><span style=white-space:pre-wrap>R&amp;B             </span></td><td>Yes</td><td>No </td><td>⋯</td><td>Very frequently</td><td><span style=white-space:pre-wrap>Never          </span></td><td><span style=white-space:pre-wrap>Rarely         </span></td><td>7</td><td>2</td><td> 5</td><td>9</td><td><span style=white-space:pre-wrap>Improve  </span></td><td>I understand.</td><td>1</td></tr>\n",
       "\t<tr><th scope=row>6</th><td>8/27/2022 21:56:50</td><td>18</td><td>Spotify      </td><td>5.0</td><td>Yes</td><td>Yes</td><td>Yes</td><td>Jazz            </td><td>Yes</td><td>Yes</td><td>⋯</td><td>Very frequently</td><td>Very frequently</td><td>Never          </td><td>8</td><td>8</td><td> 7</td><td>7</td><td>Improve  </td><td>I understand.</td><td>1</td></tr>\n",
       "\t<tr><th scope=row>11</th><td>8/27/2022 22:51:15</td><td>18</td><td>Spotify      </td><td>3.0</td><td>Yes</td><td>Yes</td><td>No </td><td>Country         </td><td>Yes</td><td>No </td><td>⋯</td><td>Never          </td><td>Rarely         </td><td>Never          </td><td>7</td><td>7</td><td> 4</td><td>7</td><td>No effect</td><td>I understand.</td><td>1</td></tr>\n",
       "</tbody>\n",
       "</table>\n"
      ],
      "text/latex": [
       "A data.frame: 6 × 34\n",
       "\\begin{tabular}{r|lllllllllllllllllllll}\n",
       "  & Timestamp & Age & Primary.streaming.service & Hours.per.day & While.working & Instrumentalist & Composer & Fav.genre & Exploratory & Foreign.languages & ⋯ & Frequency..Rap. & Frequency..Rock. & Frequency..Video.game.music. & Anxiety & Depression & Insomnia & OCD & Music.effects & Permissions & Anxious\\\\\n",
       "  & <chr> & <int> & <chr> & <dbl> & <chr> & <chr> & <chr> & <chr> & <chr> & <chr> & ⋯ & <chr> & <chr> & <chr> & <dbl> & <dbl> & <dbl> & <dbl> & <chr> & <chr> & <dbl>\\\\\n",
       "\\hline\n",
       "\t2 & 8/27/2022 19:57:31 & 63 & Pandora       & 1.5 & Yes & No  & No  & Rock             & Yes & No  & ⋯ & Rarely          & Very frequently & Rarely          & 7 & 2 &  2 & 1 &           & I understand. & 1\\\\\n",
       "\t3 & 8/27/2022 21:28:18 & 18 & Spotify       & 4.0 & No  & No  & No  & Video game music & No  & Yes & ⋯ & Rarely          & Rarely          & Very frequently & 7 & 7 & 10 & 2 & No effect & I understand. & 1\\\\\n",
       "\t4 & 8/27/2022 21:40:40 & 61 & YouTube Music & 2.5 & Yes & No  & Yes & Jazz             & Yes & Yes & ⋯ & Never           & Never           & Never           & 9 & 7 &  3 & 3 & Improve   & I understand. & 1\\\\\n",
       "\t5 & 8/27/2022 21:54:47 & 18 & Spotify       & 4.0 & Yes & No  & No  & R\\&B              & Yes & No  & ⋯ & Very frequently & Never           & Rarely          & 7 & 2 &  5 & 9 & Improve   & I understand. & 1\\\\\n",
       "\t6 & 8/27/2022 21:56:50 & 18 & Spotify       & 5.0 & Yes & Yes & Yes & Jazz             & Yes & Yes & ⋯ & Very frequently & Very frequently & Never           & 8 & 8 &  7 & 7 & Improve   & I understand. & 1\\\\\n",
       "\t11 & 8/27/2022 22:51:15 & 18 & Spotify       & 3.0 & Yes & Yes & No  & Country          & Yes & No  & ⋯ & Never           & Rarely          & Never           & 7 & 7 &  4 & 7 & No effect & I understand. & 1\\\\\n",
       "\\end{tabular}\n"
      ],
      "text/markdown": [
       "\n",
       "A data.frame: 6 × 34\n",
       "\n",
       "| <!--/--> | Timestamp &lt;chr&gt; | Age &lt;int&gt; | Primary.streaming.service &lt;chr&gt; | Hours.per.day &lt;dbl&gt; | While.working &lt;chr&gt; | Instrumentalist &lt;chr&gt; | Composer &lt;chr&gt; | Fav.genre &lt;chr&gt; | Exploratory &lt;chr&gt; | Foreign.languages &lt;chr&gt; | ⋯ ⋯ | Frequency..Rap. &lt;chr&gt; | Frequency..Rock. &lt;chr&gt; | Frequency..Video.game.music. &lt;chr&gt; | Anxiety &lt;dbl&gt; | Depression &lt;dbl&gt; | Insomnia &lt;dbl&gt; | OCD &lt;dbl&gt; | Music.effects &lt;chr&gt; | Permissions &lt;chr&gt; | Anxious &lt;dbl&gt; |\n",
       "|---|---|---|---|---|---|---|---|---|---|---|---|---|---|---|---|---|---|---|---|---|---|\n",
       "| 2 | 8/27/2022 19:57:31 | 63 | Pandora       | 1.5 | Yes | No  | No  | Rock             | Yes | No  | ⋯ | Rarely          | Very frequently | Rarely          | 7 | 2 |  2 | 1 | <!----> | I understand. | 1 |\n",
       "| 3 | 8/27/2022 21:28:18 | 18 | Spotify       | 4.0 | No  | No  | No  | Video game music | No  | Yes | ⋯ | Rarely          | Rarely          | Very frequently | 7 | 7 | 10 | 2 | No effect | I understand. | 1 |\n",
       "| 4 | 8/27/2022 21:40:40 | 61 | YouTube Music | 2.5 | Yes | No  | Yes | Jazz             | Yes | Yes | ⋯ | Never           | Never           | Never           | 9 | 7 |  3 | 3 | Improve   | I understand. | 1 |\n",
       "| 5 | 8/27/2022 21:54:47 | 18 | Spotify       | 4.0 | Yes | No  | No  | R&amp;B              | Yes | No  | ⋯ | Very frequently | Never           | Rarely          | 7 | 2 |  5 | 9 | Improve   | I understand. | 1 |\n",
       "| 6 | 8/27/2022 21:56:50 | 18 | Spotify       | 5.0 | Yes | Yes | Yes | Jazz             | Yes | Yes | ⋯ | Very frequently | Very frequently | Never           | 8 | 8 |  7 | 7 | Improve   | I understand. | 1 |\n",
       "| 11 | 8/27/2022 22:51:15 | 18 | Spotify       | 3.0 | Yes | Yes | No  | Country          | Yes | No  | ⋯ | Never           | Rarely          | Never           | 7 | 7 |  4 | 7 | No effect | I understand. | 1 |\n",
       "\n"
      ],
      "text/plain": [
       "   Timestamp          Age Primary.streaming.service Hours.per.day While.working\n",
       "2  8/27/2022 19:57:31 63  Pandora                   1.5           Yes          \n",
       "3  8/27/2022 21:28:18 18  Spotify                   4.0           No           \n",
       "4  8/27/2022 21:40:40 61  YouTube Music             2.5           Yes          \n",
       "5  8/27/2022 21:54:47 18  Spotify                   4.0           Yes          \n",
       "6  8/27/2022 21:56:50 18  Spotify                   5.0           Yes          \n",
       "11 8/27/2022 22:51:15 18  Spotify                   3.0           Yes          \n",
       "   Instrumentalist Composer Fav.genre        Exploratory Foreign.languages ⋯\n",
       "2  No              No       Rock             Yes         No                ⋯\n",
       "3  No              No       Video game music No          Yes               ⋯\n",
       "4  No              Yes      Jazz             Yes         Yes               ⋯\n",
       "5  No              No       R&B              Yes         No                ⋯\n",
       "6  Yes             Yes      Jazz             Yes         Yes               ⋯\n",
       "11 Yes             No       Country          Yes         No                ⋯\n",
       "   Frequency..Rap. Frequency..Rock. Frequency..Video.game.music. Anxiety\n",
       "2  Rarely          Very frequently  Rarely                       7      \n",
       "3  Rarely          Rarely           Very frequently              7      \n",
       "4  Never           Never            Never                        9      \n",
       "5  Very frequently Never            Rarely                       7      \n",
       "6  Very frequently Very frequently  Never                        8      \n",
       "11 Never           Rarely           Never                        7      \n",
       "   Depression Insomnia OCD Music.effects Permissions   Anxious\n",
       "2  2           2       1                 I understand. 1      \n",
       "3  7          10       2   No effect     I understand. 1      \n",
       "4  7           3       3   Improve       I understand. 1      \n",
       "5  2           5       9   Improve       I understand. 1      \n",
       "6  8           7       7   Improve       I understand. 1      \n",
       "11 7           4       7   No effect     I understand. 1      "
      ]
     },
     "metadata": {},
     "output_type": "display_data"
    }
   ],
   "source": [
    "head(data_anxious)"
   ]
  },
  {
   "cell_type": "code",
   "execution_count": 68,
   "id": "11b6ef1b-e370-4a5f-a3eb-4c3207026c7f",
   "metadata": {},
   "outputs": [
    {
     "data": {
      "text/html": [
       "0.781531531531532"
      ],
      "text/latex": [
       "0.781531531531532"
      ],
      "text/markdown": [
       "0.781531531531532"
      ],
      "text/plain": [
       "[1] 0.7815315"
      ]
     },
     "metadata": {},
     "output_type": "display_data"
    }
   ],
   "source": [
    "# CORRECT ratio1\n",
    "ratio1 <- sum(data_anxious$Music.effects == 'Improve') / sum(data$Anxious == 1)\n",
    "ratio1"
   ]
  },
  {
   "cell_type": "code",
   "execution_count": 44,
   "id": "175b8683-53eb-46e2-a36d-3b155a04000d",
   "metadata": {},
   "outputs": [
    {
     "data": {
      "text/plain": [
       "\n",
       "       Classical          Country              EDM             Folk \n",
       "     0.060810811      0.031531532      0.045045045      0.051801802 \n",
       "          Gospel          Hip hop             Jazz            K pop \n",
       "     0.006756757      0.051801802      0.029279279      0.036036036 \n",
       "           Latin             Lofi            Metal              Pop \n",
       "     0.002252252      0.015765766      0.112612613      0.171171171 \n",
       "             R&B              Rap             Rock Video game music \n",
       "     0.036036036      0.022522523      0.272522523      0.054054054 "
      ]
     },
     "metadata": {},
     "output_type": "display_data"
    }
   ],
   "source": [
    "rel_freq_genre = table(data_anxious$Fav.genre)/length(data_anxious$Fav.genre)\n",
    "rel_freq_genre"
   ]
  },
  {
   "cell_type": "code",
   "execution_count": 32,
   "id": "efa22673-bdc3-4563-9be8-d03129c90f24",
   "metadata": {},
   "outputs": [
    {
     "data": {
      "text/plain": [
       "\n",
       "           Latin           Gospel             Lofi              Rap \n",
       "     0.002252252      0.006756757      0.015765766      0.022522523 \n",
       "            Jazz          Country            K pop              R&B \n",
       "     0.029279279      0.031531532      0.036036036      0.036036036 \n",
       "             EDM             Folk          Hip hop Video game music \n",
       "     0.045045045      0.051801802      0.051801802      0.054054054 \n",
       "       Classical            Metal              Pop             Rock \n",
       "     0.060810811      0.112612613      0.171171171      0.272522523 "
      ]
     },
     "metadata": {},
     "output_type": "display_data"
    }
   ],
   "source": [
    "sort(rel_freq_genre)"
   ]
  },
  {
   "cell_type": "code",
   "execution_count": 65,
   "id": "08a168d3-1960-4ab6-bea5-65ee75a45f21",
   "metadata": {},
   "outputs": [
    {
     "data": {
      "text/html": [
       "<ol>\n",
       "\t<li><style>\n",
       ".list-inline {list-style: none; margin:0; padding: 0}\n",
       ".list-inline>li {display: inline-block}\n",
       ".list-inline>li:not(:last-child)::after {content: \"\\00b7\"; padding: 0 .5ex}\n",
       "</style>\n",
       "<ol class=list-inline><li>'Latin'</li><li>'Gospel'</li><li>'Lofi'</li><li>'Rap'</li><li>'Jazz'</li><li>'Country'</li><li>'K pop'</li><li>'R&amp;B'</li><li>'EDM'</li><li>'Folk'</li><li>'Hip hop'</li><li>'Video game music'</li><li>'Classical'</li><li>'Metal'</li><li>'Pop'</li><li>'Rock'</li></ol>\n",
       "</li>\n",
       "</ol>\n"
      ],
      "text/latex": [
       "\\begin{enumerate}\n",
       "\\item \\begin{enumerate*}\n",
       "\\item 'Latin'\n",
       "\\item 'Gospel'\n",
       "\\item 'Lofi'\n",
       "\\item 'Rap'\n",
       "\\item 'Jazz'\n",
       "\\item 'Country'\n",
       "\\item 'K pop'\n",
       "\\item 'R\\&B'\n",
       "\\item 'EDM'\n",
       "\\item 'Folk'\n",
       "\\item 'Hip hop'\n",
       "\\item 'Video game music'\n",
       "\\item 'Classical'\n",
       "\\item 'Metal'\n",
       "\\item 'Pop'\n",
       "\\item 'Rock'\n",
       "\\end{enumerate*}\n",
       "\n",
       "\\end{enumerate}\n"
      ],
      "text/markdown": [
       "1. 1. 'Latin'\n",
       "2. 'Gospel'\n",
       "3. 'Lofi'\n",
       "4. 'Rap'\n",
       "5. 'Jazz'\n",
       "6. 'Country'\n",
       "7. 'K pop'\n",
       "8. 'R&amp;B'\n",
       "9. 'EDM'\n",
       "10. 'Folk'\n",
       "11. 'Hip hop'\n",
       "12. 'Video game music'\n",
       "13. 'Classical'\n",
       "14. 'Metal'\n",
       "15. 'Pop'\n",
       "16. 'Rock'\n",
       "\n",
       "\n",
       "\n",
       "\n",
       "\n"
      ],
      "text/plain": [
       "[[1]]\n",
       " [1] \"Latin\"            \"Gospel\"           \"Lofi\"             \"Rap\"             \n",
       " [5] \"Jazz\"             \"Country\"          \"K pop\"            \"R&B\"             \n",
       " [9] \"EDM\"              \"Folk\"             \"Hip hop\"          \"Video game music\"\n",
       "[13] \"Classical\"        \"Metal\"            \"Pop\"              \"Rock\"            \n"
      ]
     },
     "metadata": {},
     "output_type": "display_data"
    }
   ],
   "source": [
    "dimnames(sort(rel_freq_genre))"
   ]
  },
  {
   "cell_type": "code",
   "execution_count": 64,
   "id": "eb3df521-b595-44e3-b2ac-58e976a0ae18",
   "metadata": {},
   "outputs": [
    {
     "data": {
      "text/html": [
       "<style>\n",
       ".list-inline {list-style: none; margin:0; padding: 0}\n",
       ".list-inline>li {display: inline-block}\n",
       ".list-inline>li:not(:last-child)::after {content: \"\\00b7\"; padding: 0 .5ex}\n",
       "</style>\n",
       "<ol class=list-inline><li>0.00225225225225225</li><li>0.00675675675675676</li><li>0.0157657657657658</li><li>0.0225225225225225</li><li>0.0292792792792793</li><li>0.0315315315315315</li><li>0.036036036036036</li><li>0.036036036036036</li><li>0.045045045045045</li><li>0.0518018018018018</li><li>0.0518018018018018</li><li>0.0540540540540541</li><li>0.0608108108108108</li><li>0.112612612612613</li><li>0.171171171171171</li><li>0.272522522522523</li></ol>\n"
      ],
      "text/latex": [
       "\\begin{enumerate*}\n",
       "\\item 0.00225225225225225\n",
       "\\item 0.00675675675675676\n",
       "\\item 0.0157657657657658\n",
       "\\item 0.0225225225225225\n",
       "\\item 0.0292792792792793\n",
       "\\item 0.0315315315315315\n",
       "\\item 0.036036036036036\n",
       "\\item 0.036036036036036\n",
       "\\item 0.045045045045045\n",
       "\\item 0.0518018018018018\n",
       "\\item 0.0518018018018018\n",
       "\\item 0.0540540540540541\n",
       "\\item 0.0608108108108108\n",
       "\\item 0.112612612612613\n",
       "\\item 0.171171171171171\n",
       "\\item 0.272522522522523\n",
       "\\end{enumerate*}\n"
      ],
      "text/markdown": [
       "1. 0.00225225225225225\n",
       "2. 0.00675675675675676\n",
       "3. 0.0157657657657658\n",
       "4. 0.0225225225225225\n",
       "5. 0.0292792792792793\n",
       "6. 0.0315315315315315\n",
       "7. 0.036036036036036\n",
       "8. 0.036036036036036\n",
       "9. 0.045045045045045\n",
       "10. 0.0518018018018018\n",
       "11. 0.0518018018018018\n",
       "12. 0.0540540540540541\n",
       "13. 0.0608108108108108\n",
       "14. 0.112612612612613\n",
       "15. 0.171171171171171\n",
       "16. 0.272522522522523\n",
       "\n",
       "\n"
      ],
      "text/plain": [
       " [1] 0.002252252 0.006756757 0.015765766 0.022522523 0.029279279 0.031531532\n",
       " [7] 0.036036036 0.036036036 0.045045045 0.051801802 0.051801802 0.054054054\n",
       "[13] 0.060810811 0.112612613 0.171171171 0.272522523"
      ]
     },
     "metadata": {},
     "output_type": "display_data"
    }
   ],
   "source": [
    "test <- as.vector(sort(rel_freq_genre))\n",
    "test"
   ]
  },
  {
   "cell_type": "code",
   "execution_count": 67,
   "id": "e08dadf8-2db7-4acc-bced-70bceaea0a8a",
   "metadata": {},
   "outputs": [
    {
     "data": {
      "image/png": "[encoded data removed]",
      "text/plain": [
       "Plot with title \"Favorite Genre\""
      ]
     },
     "metadata": {
      "image/png": {
       "height": 420,
       "width": 420
      }
     },
     "output_type": "display_data"
    }
   ],
   "source": [
    "# Simple Pie Chart\n",
    "slices <- as.vector(sort(rel_freq_genre))\n",
    "#set labels as genre name\n",
    "lbls <- c('Latin', 'Gospel', 'Lofi', 'Rap',\n",
    "          'Jazz', 'Country', 'K pop', 'R&B', \n",
    "          'EDM', 'Folk', 'Hip hop', 'Video game music',\n",
    "          'Classical', 'Metal', 'Pop', 'Rock')\n",
    "pie(slices, labels = lbls, main=\"Favorite Genre\")"
   ]
  },
  {
   "cell_type": "code",
   "execution_count": 69,
   "id": "8b457e19-89d7-4427-a542-f9a309b00f1d",
   "metadata": {},
   "outputs": [
    {
     "ename": "ERROR",
     "evalue": "Error in parse(text = x, srcfile = src): <text>:4:19: unexpected symbol\n3: attach(data_anxious)\n4: lm(ratio1 ~ Video game\n                     ^\n",
     "output_type": "error",
     "traceback": [
      "Error in parse(text = x, srcfile = src): <text>:4:19: unexpected symbol\n3: attach(data_anxious)\n4: lm(ratio1 ~ Video game\n                     ^\nTraceback:\n"
     ]
    }
   ],
   "source": [
    "# only attaching data for anxious people for now\n",
    "#(will later detach for not anxious people data if needed)\n",
    "attach(data_anxious)\n",
    "lm(ratio1 ~ Video game music + Classical + Metal + Pop + Rock)"
   ]
  },
  {
   "cell_type": "code",
   "execution_count": null,
   "id": "14fb79d8-bc6b-40e9-a3f7-f60493aa2d4b",
   "metadata": {},
   "outputs": [],
   "source": []
  }
 ],
 "metadata": {
  "kernelspec": {
   "display_name": "R",
   "language": "R",
   "name": "ir"
  },
  "language_info": {
   "codemirror_mode": "r",
   "file_extension": ".r",
   "mimetype": "text/x-r-source",
   "name": "R",
   "pygments_lexer": "r",
   "version": "4.3.1"
  }
 },
 "nbformat": 4,
 "nbformat_minor": 5
}
